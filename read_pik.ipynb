{
 "cells": [
  {
   "cell_type": "code",
   "execution_count": 28,
   "metadata": {},
   "outputs": [],
   "source": [
    "import os\n",
    "import pickle\n",
    "import random\n",
    "\n",
    "base_path = os.getcwd()\n",
    "expert_full_path = os.path.join(base_path, \"expert_actions/expert_full/\")\n",
    "expert_simple_path = os.path.join(base_path, \"expert_actions/expert_simple/\")\n"
   ]
  },
  {
   "cell_type": "code",
   "execution_count": 37,
   "metadata": {},
   "outputs": [
    {
     "name": "stdout",
     "output_type": "stream",
     "text": [
      "results_0.pik\n",
      "{0: {'S': [1], 'L': [8]}, 1: {'S': [1], 'L': [9]}, 2: {'S': [1], 'L': [9]}, 3: {'S': [1], 'L': [8]}, 4: {'S': [1], 'L': [9]}, 5: {'S': [1], 'L': [9]}, 6: {'S': [1], 'L': [9]}, 7: {'S': [1], 'L': [9]}, 8: {'S': [1], 'L': [9]}, 9: {'S': [1], 'L': [9]}, 10: {'S': [1], 'L': [9]}, 11: {'S': [1], 'L': [8]}, 12: {'S': [1], 'L': [9]}, 13: {'S': [1], 'L': [8]}, 14: {'S': [1], 'L': [9]}, 15: {'S': [1], 'L': [9]}, 16: {'S': [1], 'L': [9]}, 17: {'S': [1], 'L': [8]}, 18: {'S': [1], 'L': [9]}, 19: {'S': [1], 'L': [8]}, 20: {'S': [1], 'L': [8]}, 21: {'S': [1], 'L': [8]}, 22: {'S': [1], 'L': [9]}, 23: {'S': [1], 'L': [9]}, 24: {'S': [1], 'L': [9]}, 25: {'S': [1], 'L': [9]}, 26: {'S': [1], 'L': [8]}, 27: {'S': [1], 'L': [9]}, 28: {'S': [1], 'L': [7]}, 29: {'S': [1], 'L': [8]}, 30: {'S': [1], 'L': [9]}, 31: {'S': [1], 'L': [9]}, 32: {'S': [1], 'L': [8]}, 33: {'S': [1], 'L': [9]}, 34: {'S': [1], 'L': [7]}, 35: {'S': [1], 'L': [9]}, 36: {'S': [1], 'L': [8]}, 37: {'S': [1], 'L': [9]}, 38: {'S': [1], 'L': [7]}, 39: {'S': [1], 'L': [9]}, 40: {'S': [1], 'L': [11]}, 41: {'S': [0], 'L': [50]}, 42: {'S': [1], 'L': [11]}, 43: {'S': [1], 'L': [9]}, 44: {'S': [1], 'L': [10]}, 45: {'S': [1], 'L': [11]}, 46: {'S': [1], 'L': [11]}, 47: {'S': [1], 'L': [9]}, 48: {'S': [0], 'L': [50]}, 49: {'S': [1], 'L': [11]}, 50: {'S': [1], 'L': [11]}, 51: {'S': [1], 'L': [11]}, 52: {'S': [1], 'L': [11]}, 53: {'S': [1], 'L': [9]}, 54: {'S': [1], 'L': [9]}, 55: {'S': [1], 'L': [9]}, 56: {'S': [1], 'L': [11]}, 57: {'S': [1], 'L': [11]}, 58: {'S': [1], 'L': [9]}, 59: {'S': [1], 'L': [11]}, 60: {'S': [1], 'L': [7]}, 61: {'S': [1], 'L': [6]}, 62: {'S': [1], 'L': [6]}, 63: {'S': [1], 'L': [7]}, 64: {'S': [1], 'L': [7]}, 65: {'S': [1], 'L': [5]}, 66: {'S': [1], 'L': [7]}, 67: {'S': [1], 'L': [7]}, 68: {'S': [1], 'L': [7]}, 69: {'S': [1], 'L': [7]}, 70: {'S': [1], 'L': [7]}, 71: {'S': [1], 'L': [7]}, 72: {'S': [1], 'L': [7]}, 73: {'S': [1], 'L': [5]}, 74: {'S': [1], 'L': [5]}, 75: {'S': [1], 'L': [7]}, 76: {'S': [1], 'L': [6]}, 77: {'S': [1], 'L': [7]}, 78: {'S': [1], 'L': [7]}, 79: {'S': [1], 'L': [7]}, 80: {'S': [1], 'L': [9]}, 81: {'S': [1], 'L': [9]}, 82: {'S': [1], 'L': [8]}, 83: {'S': [1], 'L': [10]}, 84: {'S': [1], 'L': [9]}, 85: {'S': [1], 'L': [9]}, 86: {'S': [1], 'L': [9]}, 87: {'S': [1], 'L': [10]}, 88: {'S': [1], 'L': [9]}, 89: {'S': [1], 'L': [9]}, 90: {'S': [1], 'L': [9]}, 91: {'S': [1], 'L': [9]}, 92: {'S': [1], 'L': [9]}, 93: {'S': [1], 'L': [10]}, 94: {'S': [1], 'L': [9]}, 95: {'S': [1], 'L': [9]}, 96: {'S': [1], 'L': [10]}, 97: {'S': [1], 'L': [9]}, 98: {'S': [1], 'L': [9]}, 99: {'S': [1], 'L': [9]}, 100: {'S': [1], 'L': [10]}, 101: {'S': [1], 'L': [11]}, 102: {'S': [1], 'L': [11]}, 103: {'S': [1], 'L': [10]}, 104: {'S': [1], 'L': [11]}, 105: {'S': [1], 'L': [10]}, 106: {'S': [1], 'L': [10]}, 107: {'S': [1], 'L': [11]}, 108: {'S': [1], 'L': [11]}, 109: {'S': [1], 'L': [10]}, 110: {'S': [1], 'L': [10]}, 111: {'S': [1], 'L': [10]}, 112: {'S': [1], 'L': [10]}, 113: {'S': [1], 'L': [11]}, 114: {'S': [1], 'L': [10]}, 115: {'S': [1], 'L': [10]}, 116: {'S': [1], 'L': [10]}, 117: {'S': [1], 'L': [10]}, 118: {'S': [1], 'L': [10]}, 119: {'S': [1], 'L': [10]}, 120: {'S': [1], 'L': [6]}, 121: {'S': [1], 'L': [7]}, 122: {'S': [1], 'L': [7]}, 123: {'S': [1], 'L': [7]}, 124: {'S': [1], 'L': [7]}, 125: {'S': [1], 'L': [7]}, 126: {'S': [1], 'L': [7]}, 127: {'S': [1], 'L': [7]}, 128: {'S': [1], 'L': [7]}, 129: {'S': [1], 'L': [7]}, 130: {'S': [1], 'L': [7]}, 131: {'S': [1], 'L': [5]}, 132: {'S': [1], 'L': [7]}, 133: {'S': [1], 'L': [7]}, 134: {'S': [1], 'L': [7]}, 135: {'S': [1], 'L': [7]}, 136: {'S': [1], 'L': [7]}, 137: {'S': [1], 'L': [7]}, 138: {'S': [1], 'L': [7]}, 139: {'S': [1], 'L': [7]}, 140: {'S': [1], 'L': [11]}, 141: {'S': [1], 'L': [11]}, 142: {'S': [1], 'L': [11]}, 143: {'S': [1], 'L': [10]}, 144: {'S': [1], 'L': [10]}, 145: {'S': [1], 'L': [10]}, 146: {'S': [1], 'L': [11]}, 147: {'S': [1], 'L': [10]}, 148: {'S': [1], 'L': [11]}, 149: {'S': [1], 'L': [11]}, 150: {'S': [1], 'L': [10]}, 151: {'S': [1], 'L': [11]}, 152: {'S': [1], 'L': [11]}, 153: {'S': [1], 'L': [11]}, 154: {'S': [1], 'L': [10]}, 155: {'S': [1], 'L': [10]}, 156: {'S': [1], 'L': [11]}, 157: {'S': [1], 'L': [11]}, 158: {'S': [1], 'L': [11]}, 159: {'S': [1], 'L': [11]}, 160: {'S': [1], 'L': [11]}, 161: {'S': [1], 'L': [10]}, 162: {'S': [1], 'L': [10]}, 163: {'S': [1], 'L': [10]}, 164: {'S': [1], 'L': [11]}, 165: {'S': [1], 'L': [11]}, 166: {'S': [1], 'L': [11]}, 167: {'S': [1], 'L': [11]}, 168: {'S': [1], 'L': [11]}, 169: {'S': [1], 'L': [11]}, 170: {'S': [1], 'L': [10]}, 171: {'S': [1], 'L': [11]}, 172: {'S': [1], 'L': [11]}, 173: {'S': [1], 'L': [11]}, 174: {'S': [1], 'L': [11]}, 175: {'S': [1], 'L': [11]}, 176: {'S': [1], 'L': [11]}, 177: {'S': [1], 'L': [11]}, 178: {'S': [1], 'L': [11]}, 179: {'S': [1], 'L': [10]}}\n"
     ]
    }
   ],
   "source": [
    "for expert_full_traj_pik in os.listdir(expert_full_path):\n",
    "    pik_path = os.path.join(expert_full_path, expert_full_traj_pik)\n",
    "    with open(pik_path, \"rb\") as file:\n",
    "        data = pickle.load(file)\n",
    "        goals_flag = data.get(\"goals\", None)\n",
    "        if goals_flag is None:\n",
    "            print(expert_full_traj_pik)\n",
    "            \n",
    "\n",
    "        "
   ]
  },
  {
   "cell_type": "code",
   "execution_count": 41,
   "metadata": {},
   "outputs": [
    {
     "ename": "FileNotFoundError",
     "evalue": "[Errno 2] No such file or directory: '/Users/bagdong-gyu/WorkSpace/VSCodeProject/llm-mcts/expert_actions/expert_full/results_0.pik'",
     "output_type": "error",
     "traceback": [
      "\u001b[0;31m---------------------------------------------------------------------------\u001b[0m",
      "\u001b[0;31mFileNotFoundError\u001b[0m                         Traceback (most recent call last)",
      "Cell \u001b[0;32mIn[41], line 2\u001b[0m\n\u001b[1;32m      1\u001b[0m target_path \u001b[38;5;241m=\u001b[39m os\u001b[38;5;241m.\u001b[39mpath\u001b[38;5;241m.\u001b[39mjoin(expert_full_path, \u001b[38;5;124m\"\u001b[39m\u001b[38;5;124mresults_0.pik\u001b[39m\u001b[38;5;124m\"\u001b[39m)\n\u001b[0;32m----> 2\u001b[0m \u001b[38;5;28;01mwith\u001b[39;00m \u001b[38;5;28;43mopen\u001b[39;49m\u001b[43m(\u001b[49m\u001b[43mtarget_path\u001b[49m\u001b[43m,\u001b[49m\u001b[43m \u001b[49m\u001b[38;5;124;43m\"\u001b[39;49m\u001b[38;5;124;43mrb\u001b[39;49m\u001b[38;5;124;43m\"\u001b[39;49m\u001b[43m)\u001b[49m \u001b[38;5;28;01mas\u001b[39;00m file:\n\u001b[1;32m      3\u001b[0m     data \u001b[38;5;241m=\u001b[39mpickle\u001b[38;5;241m.\u001b[39mload(file)\n",
      "File \u001b[0;32m/opt/homebrew/Caskroom/miniforge/base/envs/mcts/lib/python3.9/site-packages/IPython/core/interactiveshell.py:284\u001b[0m, in \u001b[0;36m_modified_open\u001b[0;34m(file, *args, **kwargs)\u001b[0m\n\u001b[1;32m    277\u001b[0m \u001b[38;5;28;01mif\u001b[39;00m file \u001b[38;5;129;01min\u001b[39;00m {\u001b[38;5;241m0\u001b[39m, \u001b[38;5;241m1\u001b[39m, \u001b[38;5;241m2\u001b[39m}:\n\u001b[1;32m    278\u001b[0m     \u001b[38;5;28;01mraise\u001b[39;00m \u001b[38;5;167;01mValueError\u001b[39;00m(\n\u001b[1;32m    279\u001b[0m         \u001b[38;5;124mf\u001b[39m\u001b[38;5;124m\"\u001b[39m\u001b[38;5;124mIPython won\u001b[39m\u001b[38;5;124m'\u001b[39m\u001b[38;5;124mt let you open fd=\u001b[39m\u001b[38;5;132;01m{\u001b[39;00mfile\u001b[38;5;132;01m}\u001b[39;00m\u001b[38;5;124m by default \u001b[39m\u001b[38;5;124m\"\u001b[39m\n\u001b[1;32m    280\u001b[0m         \u001b[38;5;124m\"\u001b[39m\u001b[38;5;124mas it is likely to crash IPython. If you know what you are doing, \u001b[39m\u001b[38;5;124m\"\u001b[39m\n\u001b[1;32m    281\u001b[0m         \u001b[38;5;124m\"\u001b[39m\u001b[38;5;124myou can use builtins\u001b[39m\u001b[38;5;124m'\u001b[39m\u001b[38;5;124m open.\u001b[39m\u001b[38;5;124m\"\u001b[39m\n\u001b[1;32m    282\u001b[0m     )\n\u001b[0;32m--> 284\u001b[0m \u001b[38;5;28;01mreturn\u001b[39;00m \u001b[43mio_open\u001b[49m\u001b[43m(\u001b[49m\u001b[43mfile\u001b[49m\u001b[43m,\u001b[49m\u001b[43m \u001b[49m\u001b[38;5;241;43m*\u001b[39;49m\u001b[43margs\u001b[49m\u001b[43m,\u001b[49m\u001b[43m \u001b[49m\u001b[38;5;241;43m*\u001b[39;49m\u001b[38;5;241;43m*\u001b[39;49m\u001b[43mkwargs\u001b[49m\u001b[43m)\u001b[49m\n",
      "\u001b[0;31mFileNotFoundError\u001b[0m: [Errno 2] No such file or directory: '/Users/bagdong-gyu/WorkSpace/VSCodeProject/llm-mcts/expert_actions/expert_full/results_0.pik'"
     ]
    }
   ],
   "source": [
    "target_path = os.path.join(expert_full_path, \"results_0.pik\")\n",
    "with open(target_path, \"rb\") as file:\n",
    "    data =pickle.load(file)"
   ]
  },
  {
   "cell_type": "code",
   "execution_count": 36,
   "metadata": {},
   "outputs": [],
   "source": [
    "for expert_simple_traj_pik in os.listdir(expert_simple_path):\n",
    "    pik_path = os.path.join(expert_simple_path, expert_full_traj_pik)\n",
    "    with open(pik_path, \"rb\") as file:\n",
    "        data = pickle.load(file)\n",
    "        goals_flag = data.get(\"goals\", None)\n",
    "        if goals_flag is None:\n",
    "            print(expert_simple_traj_pik)\n",
    "        "
   ]
  },
  {
   "cell_type": "code",
   "execution_count": 40,
   "metadata": {},
   "outputs": [
    {
     "ename": "KeyError",
     "evalue": "'goals'",
     "output_type": "error",
     "traceback": [
      "\u001b[0;31m---------------------------------------------------------------------------\u001b[0m",
      "\u001b[0;31mKeyError\u001b[0m                                  Traceback (most recent call last)",
      "Cell \u001b[0;32mIn[40], line 5\u001b[0m\n\u001b[1;32m      2\u001b[0m \u001b[38;5;28;01mwith\u001b[39;00m \u001b[38;5;28mopen\u001b[39m(target_path, \u001b[38;5;124m\"\u001b[39m\u001b[38;5;124mrb\u001b[39m\u001b[38;5;124m\"\u001b[39m) \u001b[38;5;28;01mas\u001b[39;00m file:\n\u001b[1;32m      3\u001b[0m     data \u001b[38;5;241m=\u001b[39mpickle\u001b[38;5;241m.\u001b[39mload(file)\n\u001b[0;32m----> 5\u001b[0m     \u001b[38;5;28mprint\u001b[39m(\u001b[43mdata\u001b[49m\u001b[43m[\u001b[49m\u001b[38;5;124;43m'\u001b[39;49m\u001b[38;5;124;43mgoals\u001b[39;49m\u001b[38;5;124;43m'\u001b[39;49m\u001b[43m]\u001b[49m)\n",
      "\u001b[0;31mKeyError\u001b[0m: 'goals'"
     ]
    }
   ],
   "source": [
    "target_path = os.path.join(expert_simple_path, \"results_0.pik\")\n",
    "with open(target_path, \"rb\") as file:\n",
    "    data =pickle.load(file)\n",
    "    print(data['goals'])"
   ]
  },
  {
   "cell_type": "code",
   "execution_count": null,
   "metadata": {},
   "outputs": [],
   "source": []
  }
 ],
 "metadata": {
  "kernelspec": {
   "display_name": "mcts",
   "language": "python",
   "name": "python3"
  },
  "language_info": {
   "codemirror_mode": {
    "name": "ipython",
    "version": 3
   },
   "file_extension": ".py",
   "mimetype": "text/x-python",
   "name": "python",
   "nbconvert_exporter": "python",
   "pygments_lexer": "ipython3",
   "version": "3.9.18"
  }
 },
 "nbformat": 4,
 "nbformat_minor": 2
}
